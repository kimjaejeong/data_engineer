{
 "cells": [
  {
   "cell_type": "markdown",
   "metadata": {},
   "source": [
    "- https://lsjsj92.tistory.com/591\n",
    "    - 대용량 데이터 처리 방법\n",
    "\n",
    "- https://dacon.io/competitions/official/235744/data\n",
    "    - 데이콘 자연어 기반 기후기술분류 AI 경진대회\n",
    "    "
   ]
  },
  {
   "cell_type": "code",
   "execution_count": 34,
   "metadata": {},
   "outputs": [],
   "source": [
    "import pandas as pd\n",
    "import time"
   ]
  },
  {
   "cell_type": "code",
   "execution_count": null,
   "metadata": {},
   "outputs": [],
   "source": [
    "file_name = \"data/open/train.csv\""
   ]
  },
  {
   "cell_type": "markdown",
   "metadata": {},
   "source": [
    "## 기존 파일 열기 실행시간"
   ]
  },
  {
   "cell_type": "code",
   "execution_count": 38,
   "metadata": {},
   "outputs": [
    {
     "name": "stdout",
     "output_type": "stream",
     "text": [
      "실행시간:  7.8046112060546875\n"
     ]
    }
   ],
   "source": [
    "start_time = time.time()\n",
    "df = pd.read_csv(file_name)\n",
    "end_time = time.time()\n",
    "print(\"실행시간: \", end_time - start_time)"
   ]
  },
  {
   "cell_type": "code",
   "execution_count": 39,
   "metadata": {},
   "outputs": [
    {
     "data": {
      "text/plain": [
       "174304"
      ]
     },
     "execution_count": 39,
     "metadata": {},
     "output_type": "execute_result"
    }
   ],
   "source": [
    "len(df)"
   ]
  },
  {
   "cell_type": "markdown",
   "metadata": {},
   "source": [
    "### Python에서 대용량 csv를 다루는 방법 -> 1000개씩 데이터를 가져온다\n",
    "- 장점: 큰 용량의 데이터를 핸들링하면서 처리 가능"
   ]
  },
  {
   "cell_type": "code",
   "execution_count": 41,
   "metadata": {},
   "outputs": [
    {
     "name": "stdout",
     "output_type": "stream",
     "text": [
      "실행시간:  12.602828979492188\n"
     ]
    }
   ],
   "source": [
    "chunksize = 10 ** 3\n",
    "start_time = time.time()\n",
    "new_df = pd.DataFrame()\n",
    "for cnt, chunk in enumerate(pd.read_csv(file_name, chunksize = chunksize)):\n",
    "    new_df = pd.concat([new_df, chunk])\n",
    "end_time = time.time()\n",
    "print(\"실행시간: \", end_time - start_time)"
   ]
  },
  {
   "cell_type": "markdown",
   "metadata": {},
   "source": [
    "- chunksize: loop 때 마다 csv 데이터를 읽어올 양. 10 ** 3은 1000인데, 한 번에 1000개의 데이터를 가져온다는 뜻\n",
    "    - chunksize를 활용하면 큰 용량의 데이터를 핸들링하면서 처리할 수 있음\n",
    "- pd.read_csv(chunk_size)를 하면 데이터를 한 번에 몇 줄 읽어올지 판단\n",
    "- do_something(chunk)는 chunk는 읽어온 데이터를 의미, do_something에 돌려서 데이터를 처리함"
   ]
  }
 ],
 "metadata": {
  "kernelspec": {
   "display_name": "Python 3",
   "language": "python",
   "name": "python3"
  },
  "language_info": {
   "codemirror_mode": {
    "name": "ipython",
    "version": 3
   },
   "file_extension": ".py",
   "mimetype": "text/x-python",
   "name": "python",
   "nbconvert_exporter": "python",
   "pygments_lexer": "ipython3",
   "version": "3.8.5"
  }
 },
 "nbformat": 4,
 "nbformat_minor": 4
}
